{
 "cells": [
  {
   "cell_type": "code",
   "execution_count": null,
   "id": "ebaa2223",
   "metadata": {},
   "outputs": [],
   "source": [
    "import holodeck as holo\n",
    "import numpy as np\n",
    "import matplotlib.pyplot as plt\n",
    "import matplotlib as mpl\n",
    "from holodeck import utils, cosmo\n",
    "from holodeck import plot as hplot\n",
    "import holodeck.accretion\n",
    "from holodeck.constants import MSOL, PC, YR, MPC, GYR, MYR\n",
    "import gwb as psgwb\n",
    "# import seaborn as sns\n",
    "\n",
    "holo.log.setLevel(holo.log.INFO)"
   ]
  },
  {
   "cell_type": "code",
   "execution_count": null,
   "id": "223f95c1",
   "metadata": {},
   "outputs": [],
   "source": [
    "ECCEN_INIT = 0.5\n",
    "F_EDD = 0.5\n",
    "NSTEPS = 100\n",
    "\n",
    "pop = holo.population.Pop_Illustris(select=10)\n",
    "size = pop.size\n",
    "eccen = np.ones(size) * ECCEN_INIT\n",
    "pop = holo.population.Pop_Illustris(eccen=eccen, select=10)\n",
    "\n",
    "# redz = cosmo.a_to_z(pop.scafa)\n",
    "\n",
    "hards = [\n",
    "    holo.hardening.Hard_GW,\n",
    "    holo.hardening.CBD_Torques(allow_softening=True),\n",
    "    holo.hardening.Sesana_Scattering(),\n",
    "    holo.hardening.Dynamical_Friction_NFW(attenuate=True),\n",
    "]\n",
    "\n",
    "acc = holo.accretion.Accretion(\n",
    "    accmod='Siwek22', f_edd=F_EDD, subpc=True, evol_mass=True, edd_lim=1.0,\n",
    ")"
   ]
  },
  {
   "cell_type": "code",
   "execution_count": null,
   "id": "7b9ee228",
   "metadata": {},
   "outputs": [],
   "source": [
    "evo = holo.evolution.New_Evolution(pop, hards, debug=True, acc=acc)\n",
    "evo.evolve()"
   ]
  },
  {
   "cell_type": "code",
   "execution_count": null,
   "id": "0de5bcac",
   "metadata": {},
   "outputs": [],
   "source": [
    "fobs_cents, fobs_edges = utils.pta_freqs(num=10)\n",
    "vals = evo.at('fobs', fobs_cents)"
   ]
  },
  {
   "cell_type": "code",
   "execution_count": null,
   "id": "d0650803",
   "metadata": {},
   "outputs": [],
   "source": [
    "vals['fobs']"
   ]
  },
  {
   "cell_type": "code",
   "execution_count": null,
   "id": "d9efa532",
   "metadata": {},
   "outputs": [],
   "source": []
  }
 ],
 "metadata": {
  "kernelspec": {
   "display_name": "py311",
   "language": "python",
   "name": "python3"
  },
  "language_info": {
   "codemirror_mode": {
    "name": "ipython",
    "version": 3
   },
   "file_extension": ".py",
   "mimetype": "text/x-python",
   "name": "python",
   "nbconvert_exporter": "python",
   "pygments_lexer": "ipython3",
   "version": "3.8.13"
  }
 },
 "nbformat": 4,
 "nbformat_minor": 5
}
