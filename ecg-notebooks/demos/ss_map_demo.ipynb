{
 "cells": [
  {
   "cell_type": "code",
   "execution_count": null,
   "metadata": {},
   "outputs": [],
   "source": [
    "import holodeck as holo\n",
    "from holodeck import plot\n",
    "from holodeck.constants import YR\n",
    "\n",
    "import numpy as np\n",
    "import healpy as hp\n",
    "import matplotlib.pyplot as plt\n",
    "import matplotlib.cm as cm"
   ]
  },
  {
   "cell_type": "markdown",
   "metadata": {},
   "source": [
    "### Get PTA frequencies"
   ]
  },
  {
   "cell_type": "code",
   "execution_count": null,
   "metadata": {},
   "outputs": [],
   "source": [
    "fobs_cents, fobs_edges = holo.utils.pta_freqs()"
   ]
  },
  {
   "cell_type": "markdown",
   "metadata": {},
   "source": [
    "### Build Semi Analytic Model"
   ]
  },
  {
   "cell_type": "code",
   "execution_count": null,
   "metadata": {},
   "outputs": [],
   "source": [
    "sam = holo.sams.Semi_Analytic_Model()\n",
    "hard = holo.hardening.Hard_GW()"
   ]
  },
  {
   "cell_type": "markdown",
   "metadata": {},
   "source": [
    "### Calculate Characteristic Strain for 5 Loudest Sources"
   ]
  },
  {
   "cell_type": "code",
   "execution_count": null,
   "metadata": {},
   "outputs": [],
   "source": [
    "NREALS = 30             # number of random realizations\n",
    "SHAPE = None            # choose an int for fast debugging, or None for full shape\n",
    "# SHAPE = 40              # choose an int for fast debugging, or None for full shape\n",
    "NLOUDEST = 5\n",
    "\n",
    "hc_ss, hc_bg, sspar, bgpar = sam.gwb(\n",
    "    fobs_edges, hard, realize=NREALS, loudest=NLOUDEST, params=True)\n",
    "\n",
    "# hc_ss, hc_bg, = sam.gwb(\n",
    "#     fobs_edges, hard, realize=NREALS, loudest=5, params=False)"
   ]
  },
  {
   "cell_type": "markdown",
   "metadata": {},
   "source": [
    "### Plot Characteristic Strain for 5 Loudest Sources"
   ]
  },
  {
   "cell_type": "code",
   "execution_count": null,
   "metadata": {},
   "outputs": [],
   "source": [
    "fig, ax = plot.figax(xlabel='Frequency (yr)', ylabel='Characteristic Strain, $h_c$')\n",
    "xx = fobs_cents*YR\n",
    "\n",
    "# plot power law for comparison\n",
    "yy = xx**(-2/3)*1.1*10**-15\n",
    "ax.plot(xx,yy, color='k', alpha=0.25, linestyle='dashed')\n",
    "\n",
    "# plot BG median and CI\n",
    "ax.plot(xx, np.median(hc_bg, axis=-1), color='k')\n",
    "for pp in [50,95]:\n",
    "    lo, hi = np.percentile(hc_bg, (50-pp/2, 50+pp/2), axis=-1)\n",
    "    ax.fill_between(xx, lo, hi, color='k', alpha=0.2)\n",
    "\n",
    "nreals = 5      # how many realizations to show\n",
    "nloudest = 3    # how many loudest to show for each realization\n",
    "colors=cm.rainbow(np.linspace(0,1,nreals))\n",
    "\n",
    "rands = np.random.choice(np.arange(0,len(hc_ss[0,0])), \n",
    "                         size=nreals, replace=False, )\n",
    "for rr, rand in enumerate(rands):\n",
    "    cc = colors[rr] # get realization color\n",
    "\n",
    "    ax.plot(xx, hc_bg[:,rand], alpha=0.5, zorder=6) # plot BG realization\n",
    "\n",
    "    ax.scatter(xx, hc_ss[:,rand,0], marker='o', color=cc, alpha=0.2,\n",
    "               edgecolors='k', zorder=5) # plot single loudest SS with black edges\n",
    "    for ll in range(nloudest): # plot all other loudest SS\n",
    "        ax.scatter(xx, hc_ss[:,rand,ll], marker='o', color=cc, alpha=0.2,\n",
    "                   )"
   ]
  },
  {
   "cell_type": "markdown",
   "metadata": {},
   "source": [
    "### Plot binary properties\n",
    "If you want, you can also plot the parameters\n",
    "\n",
    "* sspar gives [total mass, mass ratio, initial redshift, final redshift]\n",
    "* bgpar gives hc_bg-weighted averages of \n",
    "    [total mass, mass ratio, initial redshift, final redshift,\n",
    "     final comoving distance, final separation, final angular separation]\n",
    "\n",
    "\n",
    "get the rest of single source parameters using\n",
    "sspar = holo.single_sources.all_sspars(fobs_cents, sspar)"
   ]
  },
  {
   "cell_type": "code",
   "execution_count": null,
   "metadata": {},
   "outputs": [],
   "source": [
    "total_mass = sspar[0] # shape [NFREQS, NREALS, NLOUDEST,]\n",
    "mass_ratio = sspar[1]\n",
    "initial_redshift = sspar[2]\n",
    "final_redshift = sspar[3]"
   ]
  },
  {
   "cell_type": "code",
   "execution_count": null,
   "metadata": {},
   "outputs": [],
   "source": [
    "fig = plot.plot_pars(fobs_cents, sspar, bgpar) # here's a mediocre plotting function I've already written"
   ]
  },
  {
   "cell_type": "markdown",
   "metadata": {},
   "source": [
    "# Create Healpix Map using many loud single sources"
   ]
  },
  {
   "cell_type": "markdown",
   "metadata": {},
   "source": [
    "### Function in the anisotropy.py module not yet pushed to NANOGrav"
   ]
  },
  {
   "cell_type": "code",
   "execution_count": null,
   "metadata": {},
   "outputs": [],
   "source": [
    "def healpix_map(hc_ss, hc_bg, nside=8, seed=None, ret_seed=False):\n",
    "    \"\"\" Build mollview array of hc^2/dOmega for a healpix map\n",
    "    \n",
    "    Parameters\n",
    "    ----------\n",
    "    hc_ss : (F,R,L) NDarray\n",
    "        Characteristic strain of single sources.\n",
    "    hc_bg : (F,R) NDarray\n",
    "        Characteristic strain of the background.\n",
    "    nside : integer\n",
    "        number of sides for healpix map.\n",
    "\n",
    "    Returns\n",
    "    -------\n",
    "    moll_hc : (NPIX,) 1Darray\n",
    "        Array of h_c^2/dOmega at every pixel for a mollview healpix map.\n",
    "    \n",
    "    NOTE: Could speed up the for-loops, but it's ok for now.\n",
    "    \"\"\"\n",
    "\n",
    "    npix = hp.nside2npix(nside)\n",
    "    area = hp.nside2pixarea(nside)\n",
    "    nfreqs = len(hc_ss)\n",
    "    nreals = len(hc_ss[0])\n",
    "    nloudest = len(hc_ss[0,0])\n",
    "\n",
    "    # set random seed\n",
    "    if seed is None:\n",
    "        seed = np.random.randint(99999)   # get a random number\n",
    "    print(f\"random seed: {seed}\")                           # print it out so we can reuse it if desired\n",
    "    np.random.seed(seed)   \n",
    "\n",
    "    # spread background evenly across pixels in moll_hc\n",
    "    moll_hc = np.ones((nfreqs,nreals,npix)) * hc_bg[:,:,np.newaxis]**2/(npix*area) # (frequency, realization, pixel)\n",
    "\n",
    "    # choose random pixels to place the single sources\n",
    "    pix_ss = np.random.randint(0, npix-1, size=nfreqs*nreals*nloudest).reshape(nfreqs, nreals, nloudest)\n",
    "    for ff in range(nfreqs):\n",
    "        for rr in range(nreals):\n",
    "            for ll in range(nloudest):\n",
    "                moll_hc[ff,rr,pix_ss[ff,rr,ll]] = (moll_hc[ff,rr,pix_ss[ff,rr,ll]] + hc_ss[ff,rr,ll]**2/area)\n",
    "    if ret_seed:\n",
    "        return moll_hc, seed           \n",
    "    return moll_hc"
   ]
  },
  {
   "cell_type": "markdown",
   "metadata": {},
   "source": [
    "### Calculate hc_ss for a larger number of single sources, for a more detailed map"
   ]
  },
  {
   "cell_type": "code",
   "execution_count": null,
   "metadata": {},
   "outputs": [],
   "source": [
    "NREALS = 10             # number of random realizations, fewer for speed since we'll only use one at a time for a map\n",
    "# SHAPE = None            # choose an int for fast debugging, or None for full shape\n",
    "SHAPE = 40              # choose an int for fast debugging, or None for full shape\n",
    "NLOUDEST = 100          # number of loudest single sources, more for a detailed map\n",
    "hc_ss, hc_bg = sam.gwb(\n",
    "    fobs_edges, hard, realize=NREALS, loudest=NLOUDEST, params=False)"
   ]
  },
  {
   "cell_type": "markdown",
   "metadata": {},
   "source": [
    "### Make healpy map from single sources"
   ]
  },
  {
   "cell_type": "code",
   "execution_count": null,
   "metadata": {},
   "outputs": [],
   "source": [
    "NSIDE = 16 # choose map resolution, which should be a power of 2\n",
    "moll_hc = healpix_map(hc_ss, hc_bg, nside=NSIDE)\n",
    "print(moll_hc.shape)"
   ]
  },
  {
   "cell_type": "markdown",
   "metadata": {},
   "source": [
    "### Plot healpy map"
   ]
  },
  {
   "cell_type": "code",
   "execution_count": null,
   "metadata": {},
   "outputs": [],
   "source": [
    "ff = 0                              # choose lowest frequency bin\n",
    "rr = np.random.randint(0, NREALS)   # choose random realization\n",
    "print(rr)\n",
    "hp.mollview(moll_hc[ff,rr])         # healpix map"
   ]
  },
  {
   "cell_type": "markdown",
   "metadata": {},
   "source": [
    "### Plot smoothed healpy map"
   ]
  },
  {
   "cell_type": "code",
   "execution_count": null,
   "metadata": {},
   "outputs": [],
   "source": [
    "seed=None\n",
    "if seed is None:\n",
    "    seed = np.random.randint(99999)   # get a random number\n",
    "    print(f\"random seed: {seed}\")     # print it out so we can reuse it if desired\n",
    "np.random.seed(seed)  \n",
    "\n",
    "deg = 30 # choose smoothing between ~0 and 180 degrees\n",
    "smooth_map = hp.smoothing(moll_hc[ff,rr], fwhm=np.radians(deg))\n",
    "fig,ax = plot.figax()\n",
    "hp.mollview(smooth_map, hold=True, \n",
    "                title='Smoothed with fwhm=%d$\\deg$' % (deg),\n",
    "                cbar=False\n",
    "                #min = 4e-33, max=1.5e-31, cbar=False\n",
    "                )\n"
   ]
  },
  {
   "cell_type": "code",
   "execution_count": null,
   "metadata": {},
   "outputs": [],
   "source": []
  }
 ],
 "metadata": {
  "kernelspec": {
   "display_name": "holo310",
   "language": "python",
   "name": "python3"
  },
  "language_info": {
   "codemirror_mode": {
    "name": "ipython",
    "version": 3
   },
   "file_extension": ".py",
   "mimetype": "text/x-python",
   "name": "python",
   "nbconvert_exporter": "python",
   "pygments_lexer": "ipython3",
   "version": "3.10.10"
  }
 },
 "nbformat": 4,
 "nbformat_minor": 2
}
