{
 "cells": [
  {
   "cell_type": "code",
   "execution_count": null,
   "metadata": {},
   "outputs": [],
   "source": [
    "%reload_ext autoreload\n",
    "%autoreload 2\n",
    "from importlib import reload\n",
    "\n",
    "import numpy as np\n",
    "import matplotlib.pyplot as plt\n",
    "import matplotlib.cm as cm\n",
    "import h5py\n",
    "from tqdm import tqdm\n",
    "import os\n",
    "\n",
    "\n",
    "from holodeck import plot, detstats, utils\n",
    "import holodeck.single_sources as sings\n",
    "from holodeck.constants import YR, MSOL, MPC, GYR, PC\n",
    "import holodeck as holo\n",
    "from holodeck.sams import sam\n",
    "\n",
    "import hasasia.sim as hsim"
   ]
  },
  {
   "cell_type": "code",
   "execution_count": null,
   "metadata": {},
   "outputs": [],
   "source": [
    "target = 'hard_time'\n",
    "data, params, dsdat = detstats.get_data(target,\n",
    "        gw_only=False, red2white=None, red_gamma=None,\n",
    "        nloudest=10, bgl=1, nexcl=0,\n",
    "        )\n"
   ]
  },
  {
   "cell_type": "code",
   "execution_count": null,
   "metadata": {},
   "outputs": [],
   "source": [
    "PP = 10\n",
    "dp_ss = dsdat[PP]['dp_ss']\n",
    "fobs = data[PP]['fobs_cents']"
   ]
  },
  {
   "cell_type": "code",
   "execution_count": null,
   "metadata": {},
   "outputs": [],
   "source": [
    "print(dp_ss.shape)\n",
    "print(np.unravel_index(np.argmax(dp_ss), shape=dp_ss.shape))"
   ]
  },
  {
   "cell_type": "markdown",
   "metadata": {},
   "source": [
    "### find a realization that can have high dp_ss"
   ]
  },
  {
   "cell_type": "code",
   "execution_count": null,
   "metadata": {},
   "outputs": [],
   "source": [
    "RR, ss = np.unravel_index(np.argmax(dp_ss), shape=dp_ss.shape)\n",
    "print(f\"{RR=}, {ss=}, {dp_ss[RR,ss]=}\")"
   ]
  },
  {
   "cell_type": "markdown",
   "metadata": {},
   "source": [
    "check the individual gamm_ssi"
   ]
  },
  {
   "cell_type": "code",
   "execution_count": null,
   "metadata": {},
   "outputs": [],
   "source": [
    "gamma_ssi = dsdat[PP]['gamma_ssi'][:,RR,ss]\n",
    "ev_ss = dsdat[PP]['ev_ss'][RR]\n",
    "print(gamma_ssi.shape)\n",
    "fig, ax = plot.figax(xlabel='fobs', ylabel='DP_i')\n",
    "ax.scatter(np.repeat(fobs, gamma_ssi[0].size).reshape(gamma_ssi.shape), gamma_ssi)\n"
   ]
  },
  {
   "cell_type": "markdown",
   "metadata": {},
   "source": [
    "check other sky realizations, many have high dp_ss. nice"
   ]
  },
  {
   "cell_type": "code",
   "execution_count": null,
   "metadata": {},
   "outputs": [],
   "source": [
    "print(np.sum(dp_ss[RR]))\n",
    "fig, ax = plot.figax(xlabel='sky realizations', ylabel='dp_ss', xscale='linear')\n",
    "ax.scatter(np.arange(len(dp_ss[RR])), dp_ss[RR], alpha=0.5)\n",
    "fig\n",
    "fig, ax = plot.figax(xlabel='sky realizations', ylabel='ev_ss', xscale='linear')\n",
    "ax.scatter(np.arange(len(ev_ss)), ev_ss, alpha=0.5, color='orange')"
   ]
  },
  {
   "cell_type": "markdown",
   "metadata": {},
   "source": [
    "use the hc_ss and hc_bg from this realization"
   ]
  },
  {
   "cell_type": "code",
   "execution_count": null,
   "metadata": {},
   "outputs": [],
   "source": [
    "fig, ax = plot.figax(xlabel='fobs', ylabel='hc')\n",
    "hc_bg, hc_ss = data[PP]['hc_bg'][:,RR], data[PP]['hc_ss'][:,RR]\n",
    "ax.plot(fobs, hc_bg)\n",
    "ax.scatter(np.repeat(fobs, hc_ss[0].size).reshape(hc_ss.shape), hc_ss,\n",
    "           alpha=0.25)"
   ]
  },
  {
   "cell_type": "markdown",
   "metadata": {},
   "source": [
    "# make a pta for fresh detstats"
   ]
  },
  {
   "cell_type": "code",
   "execution_count": null,
   "metadata": {},
   "outputs": [],
   "source": [
    "seed = 10000\n",
    "if seed is None:\n",
    "    seed = np.random.randint(99999) # get a random number\n",
    "print(f\"{seed=}\")\n",
    "np.random.seed(seed)\n",
    "\n",
    "psrs, red_amp, sigma, _, _ = detstats.calibrate_one_pta(hc_bg, hc_ss, fobs, npsrs=40, seed=seed,\n",
    "                                                        ret_sig=True)\n",
    "\n",
    "print(red_amp, sigma)\n",
    "\n",
    "# check distinction/matching w random seed\n",
    "max_phi, max_theta = 0, 0\n",
    "am_phi, am_theta = None, None\n",
    "for ii, psr in enumerate(psrs):\n",
    "    if psr.phi > max_phi:\n",
    "        max_phi = psr.phi\n",
    "        am_phi = ii\n",
    "    if psr.theta > max_theta:\n",
    "        max_theta = psr.theta\n",
    "        am_theta = ii\n",
    "\n",
    "print(f\"{am_theta=}, {am_phi=}\")"
   ]
  },
  {
   "cell_type": "code",
   "execution_count": null,
   "metadata": {},
   "outputs": [],
   "source": [
    "_dp_bg, _snr_bg = detstats.detect_bg_pta(psrs, fobs, hc_bg[:,np.newaxis], ret_snr=True)\n",
    "print(f\"{_dp_bg=}, {_snr_bg=}\")\n",
    "\n",
    "# get single source detstats\n",
    "_dp_ss, _snr_ss, _gamma_ssi = detstats.detect_ss_pta(\n",
    "        psrs, fobs, hc_ss[:,np.newaxis], hc_bg[:,np.newaxis], \n",
    "        nskies=1, ret_snr=True,)\n",
    "print(f\"{np.sum(_gamma_ssi)=}\")\n",
    "print(f\"{detstats.expval_of_ss(_gamma_ssi)=}\")\n",
    "print(f\"{detstats.count_n_ss(_gamma_ssi)=}\")"
   ]
  },
  {
   "cell_type": "code",
   "execution_count": null,
   "metadata": {},
   "outputs": [],
   "source": [
    "print(dsdat[0].keys())\n",
    "print(dsdat[PP]['sigmas'].shape)\n",
    "sigma = np.mean(dsdat[PP]['sigmas'])\n",
    "print(f\"{sigma=}, {np.mean(dsdat[PP]['sigmas'])=}\")"
   ]
  },
  {
   "cell_type": "code",
   "execution_count": null,
   "metadata": {},
   "outputs": [],
   "source": [
    "hc_bg, hc_ss = data[PP]['hc_bg'][:,RR], data[PP]['hc_ss'][:,RR]\n",
    "hc_ss[0,1] = hc_ss[0,0]\n",
    "fig, ax = plot.figax(xlabel='fobs', ylabel='hc')\n",
    "ax.plot(fobs, hc_bg)\n",
    "ax.scatter(np.repeat(fobs, hc_ss[0].size).reshape(hc_ss.shape), hc_ss,\n",
    "           alpha=0.25)\n",
    "\n"
   ]
  },
  {
   "cell_type": "code",
   "execution_count": null,
   "metadata": {},
   "outputs": [],
   "source": [
    "plot.plot_bg_ss(fobs, )"
   ]
  }
 ],
 "metadata": {
  "kernelspec": {
   "display_name": "holo310",
   "language": "python",
   "name": "python3"
  },
  "language_info": {
   "codemirror_mode": {
    "name": "ipython",
    "version": 3
   },
   "file_extension": ".py",
   "mimetype": "text/x-python",
   "name": "python",
   "nbconvert_exporter": "python",
   "pygments_lexer": "ipython3",
   "version": "3.10.10"
  }
 },
 "nbformat": 4,
 "nbformat_minor": 2
}
