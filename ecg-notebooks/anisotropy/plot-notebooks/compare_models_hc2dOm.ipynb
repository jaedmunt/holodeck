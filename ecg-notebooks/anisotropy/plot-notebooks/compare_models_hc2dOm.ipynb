{
 "cells": [
  {
   "cell_type": "code",
   "execution_count": null,
   "metadata": {},
   "outputs": [],
   "source": [
    "import holodeck as holo\n",
    "from holodeck import single_sources, utils, plot, detstats, anisotropy\n",
    "from holodeck.constants import YR\n",
    "\n",
    "import numpy as np\n",
    "import healpy as hp\n",
    "import matplotlib.pyplot as plt\n",
    "import matplotlib.cm as cm\n",
    "import h5py\n",
    "\n"
   ]
  },
  {
   "attachments": {},
   "cell_type": "markdown",
   "metadata": {},
   "source": [
    "## Nihan's Data"
   ]
  },
  {
   "cell_type": "code",
   "execution_count": null,
   "metadata": {},
   "outputs": [],
   "source": [
    "# decision threshold from the frequentist analysis for l = 0 through l = 6\n",
    "freq_dthresh = np.array([1.        , 0.39622564, 0.32362566, 0.20984702, 0.11960839,\n",
    "       0.07806638, 0.04426357])\n",
    "\n",
    "# This is for the all-band Bayesian analysis from l = 1 to l = 6:\n",
    "bayes_Cl = np.array([0.24187743, 0.17480158, 0.10009671, 0.08109598, 0.05493891,\n",
    "       0.0317599 ])\n",
    "\n",
    "# And these are the per-frequency Bayesian upper limits, \n",
    "# where each row represents the frequency bin from low to high (0 to 4) \n",
    "# and then each column is the spherical harmonic multipole from l = 1 to l = 6:\n",
    "# (F, l)\n",
    "Cl_nihan = np.array([\n",
    "    [0.20216773, 0.14690035, 0.09676646, 0.07453352, 0.05500382, 0.03177427],\n",
    "    [0.21201336, 0.14884939, 0.10545698, 0.07734305, 0.05257189, 0.03090662],\n",
    "    [0.20840993, 0.14836757, 0.09854803, 0.07205384, 0.05409881, 0.03305785],\n",
    "    [0.19788951, 0.15765126, 0.09615489, 0.07475364, 0.0527356 , 0.03113331],\n",
    "    [0.20182648, 0.14745265, 0.09681202, 0.0746824 , 0.05503161, 0.0317012 ]])\n",
    "print(Cl_nihan.shape)\n",
    "\n",
    "freq_bins_Hz = np.array([2.0, 4.0, 5.9, 7.9, 9.9]) *10**-9 # Hz"
   ]
  },
  {
   "attachments": {},
   "cell_type": "markdown",
   "metadata": {},
   "source": [
    "# Functions"
   ]
  },
  {
   "attachments": {},
   "cell_type": "markdown",
   "metadata": {},
   "source": [
    "read_split_anis_file()"
   ]
  },
  {
   "cell_type": "code",
   "execution_count": null,
   "metadata": {},
   "outputs": [],
   "source": [
    "def read_split2_anis_file(filename1, filename2):\n",
    "    file1 = np.load(filename1)\n",
    "    file2 = np.load(filename2)\n",
    "    print(f\"{file1.files=}\")\n",
    "    # load ss info\n",
    "    shape = file1['ss_shape']\n",
    "    nsamps, nfreqs, nreals, nloudest = shape[0], shape[1], shape[2], shape[3]\n",
    "    fobs = file1['fobs']\n",
    "\n",
    "    # # load ranking info\n",
    "    # nsort = file1['nsort']\n",
    "    # fidx = file1['fidx']\n",
    "    # hc_ref = file1['hc_ref']\n",
    "\n",
    "    # load harmonics info\n",
    "    # nside = file1['nside']\n",
    "    lmax  = file1['lmax']\n",
    "\n",
    "    # load map and harmonics from 1st split chunk\n",
    "    # moll_hc_best1 = file1['moll_hc_best']\n",
    "    Cl_best1 = file1['Cl_best']\n",
    "    nbest1 = len(Cl_best1)\n",
    "\n",
    "    file1.close()\n",
    "\n",
    "    # load map and harmonics from 2nd split chunk\n",
    "    # moll_hc_best2 = file2['moll_hc_best']\n",
    "    Cl_best2 = file2['Cl_best']\n",
    "    nbest2 = len(Cl_best2)\n",
    "    file2.close()\n",
    "\n",
    "\n",
    "    # concatenate Cl and moll_hc\n",
    "    nbest=nbest1+nbest2\n",
    "    print(f\"{nbest=}\")\n",
    "    Cl_best = np.concatenate((Cl_best1, Cl_best2)).reshape(nbest, nfreqs, nreals, lmax+1)\n",
    "    # moll_hc_best = np.concatenate((moll_hc_best1, moll_hc_best2), axis=0).reshape(nbest, nfreqs, nreals, npix)\n",
    "\n",
    "    print(f\"{shape=}, {nbest=}\")\n",
    "    print(f\"{Cl_best1.shape=}, {Cl_best2.shape=}, {Cl_best.shape=}\")\n",
    "    # print(f\"{moll_hc_best1.shape=}, {moll_hc_best2.shape=}, {moll_hc_best.shape=}\")\n",
    "\n",
    "    vals = {\n",
    "        'fobs':fobs, 'lmax':lmax, 'Cl_best':Cl_best\n",
    "    }\n",
    "    return vals\n"
   ]
  },
  {
   "attachments": {},
   "cell_type": "markdown",
   "metadata": {},
   "source": [
    "read_one_anis_file()"
   ]
  },
  {
   "cell_type": "code",
   "execution_count": null,
   "metadata": {},
   "outputs": [],
   "source": [
    "def read_one_anis_file(filename1):\n",
    "    file1 = np.load(filename1)\n",
    "    print(f\"{file1.files=}\")\n",
    "    # load ss info\n",
    "    shape = file1['ss_shape']\n",
    "    nsamps, nfreqs, nreals, nloudest = shape[0], shape[1], shape[2], shape[3]\n",
    "    fobs = file1['fobs']\n",
    "\n",
    "    # # load ranking info\n",
    "    # nsort = file1['nsort']\n",
    "    # fidx = file1['fidx']\n",
    "    # hc_ref = file1['hc_ref']\n",
    "\n",
    "    # load harmonics info\n",
    "    # nside = file1['nside']\n",
    "    lmax  = file1['lmax']\n",
    "\n",
    "    # load map and harmonics from 1st split chunk\n",
    "    # moll_hc_best1 = file1['moll_hc_best']\n",
    "    Cl_best = file1['Cl_best']\n",
    "    nbest = len(Cl_best)\n",
    "\n",
    "    file1.close()\n",
    "\n",
    "\n",
    "    print(f\"{shape=}, {nbest=}\")\n",
    "    print(f\"{Cl_best.shape=}\")\n",
    "    # print(f\"{moll_hc_best1.shape=}, {moll_hc_best2.shape=}, {moll_hc_best.shape=}\")\n",
    "\n",
    "    vals = {\n",
    "        'fobs':fobs, 'lmax':lmax, 'Cl_best':Cl_best\n",
    "    }\n",
    "    return vals\n"
   ]
  },
  {
   "attachments": {},
   "cell_type": "markdown",
   "metadata": {},
   "source": [
    "plot_ClC0_medians()"
   ]
  },
  {
   "cell_type": "code",
   "execution_count": null,
   "metadata": {},
   "outputs": [],
   "source": [
    "def plot_ClC0_medians(xx, Cl_best, lmax, nshow, xx_Nihan=None, Cl_nihan=None,\n",
    "                      figsize=(7,6), xlabel=plot.LABEL_GW_FREQUENCY_HZ, ylabel='$C_{\\ell}/C_0$',\n",
    "                      yscale='log'):\n",
    "    fig, ax = plot.figax(figsize=figsize, xlabel=xlabel, ylabel=ylabel, yscale=yscale)\n",
    "\n",
    "    yy = Cl_best[:,:,:,1:]/Cl_best[:,:,:,0,np.newaxis] # (B,F,R,l)\n",
    "    yy = np.median(yy, axis=-1) # (B,F,l) median over realizations\n",
    "\n",
    "    # colors = ['k', 'b', 'r', 'g', 'c', 'm']\n",
    "    colors = ['#0a5da4', '#00ba44', '#ff9503', '#fe2c02', '#845b98', '#474747']\n",
    "    for ll in range(lmax):\n",
    "        ax.plot(xx, np.median(yy[:,:,ll], axis=0), color=colors[ll]) #, label='median of samples, $l=%d$' % ll)\n",
    "        for pp in [68,]:\n",
    "            percs = pp/2\n",
    "            percs = [50-percs, 50+percs]\n",
    "            ax.fill_between(xx, *np.percentile(yy[:,:,ll], percs, axis=0), alpha=0.1, color=colors[ll])\n",
    "        \n",
    "        for bb in range(0,nshow):\n",
    "            # if ll==0 and bb==0:\n",
    "            #     label = \"individual best samples, median of realizations\"\n",
    "            # else: \n",
    "            label=None\n",
    "            ax.plot(xx, yy[bb,:,ll], color=colors[ll], linestyle=':', alpha=0.25,\n",
    "                                 linewidth=1, label=label)\n",
    "            \n",
    "        # Add Nihan's data\n",
    "        if xx_Nihan is not None and Cl_nihan is not None:\n",
    "            ax.plot(xx_Nihan, Cl_nihan[:,ll], \n",
    "                    label = '$l=%d$' % (ll+1), \n",
    "                color=colors[ll], marker='o', linestyle='--', ms=5)\n",
    "        \n",
    "    # plot._twin_yr(ax, nano=False)\n",
    "    ax.set_xlabel(xlabel, fontsize=11)\n",
    "    ax.set_ylabel(ylabel, fontsize=11)\n",
    "    # ax.set_title('50%% and 98%% confidence intervals of the %d best samples \\nusing realizations medians, lmax=%d'\n",
    "    #             % (nbest, lmax))\n",
    "    return fig\n",
    "# fig1 = plot_ClC0_medians(fobs_yrs, Cl_best, lmax, nshow=25, xx_Nihan=freq_bins_Hz * YR, Cl_nihan=Cl_nihan)\n"
   ]
  },
  {
   "attachments": {},
   "cell_type": "markdown",
   "metadata": {},
   "source": [
    "plot_ClC0_medians_big"
   ]
  },
  {
   "cell_type": "code",
   "execution_count": null,
   "metadata": {},
   "outputs": [],
   "source": [
    "def plot_ClC0_medians_big(xx, Cl_best, lmax, nshow, xx_Nihan=None, Cl_nihan=None,\n",
    "                      xmin=None, xmax=None, ymin=None, ymax=None, show_spk = False):\n",
    "    fig, ax = plot.figax(figsize=(7,6), xlabel=plot.LABEL_GW_FREQUENCY_HZ, ylabel='$C_{\\ell}/C_0$')\n",
    "\n",
    "    yy = Cl_best[:,:,:,1:]/Cl_best[:,:,:,0,np.newaxis] # (B,F,R,l)\n",
    "    yy = np.median(yy, axis=-1) # (B,F,l) median over realizations\n",
    "\n",
    "    # colors = ['k', 'b', 'r', 'g', 'c', 'm']\n",
    "    colors = ['#0a5da4', '#00ba44', '#ff9503', '#fe2c02', '#845b98', '#474747']\n",
    "    for ll in range(lmax):\n",
    "        ax.plot(xx, np.median(yy[:,:,ll], axis=0), color=colors[ll]) #, label='median of samples, $l=%d$' % ll)\n",
    "        for pp in [50, 95]:\n",
    "            percs = pp/2\n",
    "            percs = [50-percs, 50+percs]\n",
    "            ax.fill_between(xx, *np.percentile(yy[:,:,ll], percs, axis=0), alpha=0.1, color=colors[ll])\n",
    "        \n",
    "        for bb in range(0,nshow):\n",
    "            # if ll==0 and bb==0:\n",
    "            #     label = \"individual best samples, median of realizations\"\n",
    "            # else: \n",
    "            label=None\n",
    "            ax.plot(xx, yy[bb,:,ll], color=colors[ll], linestyle=':', alpha=0.25,\n",
    "                                 linewidth=1, label=label)\n",
    "            \n",
    "        # Add Nihan's data\n",
    "        if xx_Nihan is not None and Cl_nihan is not None:\n",
    "            ax.plot(xx_Nihan, Cl_nihan[:,ll], \n",
    "                    label = '$l=%d$' % (ll+1), \n",
    "                color=colors[ll], marker='o', ms=8)\n",
    "        \n",
    "        plot._twin_yr(ax, nano=False)\n",
    "\n",
    "    if show_spk:\n",
    "        # Sato-Polito & Kamionkowski\n",
    "        spk_xx = np.array([3.5*10**-9, 1.25*10**-8, 1*10**-7])\n",
    "        spk_yy = np.array([1*10**-5, 1*10**-3, 1*10**-1])\n",
    "        ax.plot(spk_xx, spk_yy, label='SP & K', color='limegreen', linestyle='--')\n",
    "\n",
    "    if xmin is not None and xmax is not None:\n",
    "        ax.set_xlim(xmin, xmax)\n",
    "    if ymin is not None and ymax is not None:\n",
    "        ax.set_ylim(ymin, ymax)\n",
    "    \n",
    "    # ax.set_title('50%% and 98%% confidence intervals of the %d best samples \\nusing realizations medians, lmax=%d'\n",
    "    #             % (nbest, lmax))\n",
    "    return fig\n",
    "# fig1 = plot_ClC0_medians(fobs_yrs, Cl_best, lmax, nshow=25, xx_Nihan=freq_bins_Hz * YR, Cl_nihan=Cl_nihan)\n"
   ]
  },
  {
   "attachments": {},
   "cell_type": "markdown",
   "metadata": {},
   "source": [
    "# Uniform_09A"
   ]
  },
  {
   "attachments": {},
   "cell_type": "markdown",
   "metadata": {},
   "source": [
    "## 09A ns32"
   ]
  },
  {
   "cell_type": "code",
   "execution_count": null,
   "metadata": {},
   "outputs": [],
   "source": [
    "pspace = 'Uniform09A'\n",
    "nside = 32\n",
    "\n",
    "filename1 = '/Users/emigardiner/GWs/holodeck/output/brc_output/ss58_anis09A_2023-06-15_uniform-09a_n1000_r50_f40_l2000/anisotropy/sph_harm_hc2dOm_lmax6_ns32_r50_b00-49.npz'\n",
    "filename2 = '/Users/emigardiner/GWs/holodeck/output/brc_output/ss58_anis09A_2023-06-15_uniform-09a_n1000_r50_f40_l2000/anisotropy/sph_harm_hc2dOm_lmax6_ns32_r50_b50-99.npz'"
   ]
  },
  {
   "cell_type": "code",
   "execution_count": null,
   "metadata": {},
   "outputs": [],
   "source": [
    "vals = read_split2_anis_file(filename1, filename2)\n",
    "fobs = vals['fobs']\n",
    "lmax = vals['lmax']\n",
    "Cl_best = vals['Cl_best']"
   ]
  },
  {
   "cell_type": "code",
   "execution_count": null,
   "metadata": {},
   "outputs": [],
   "source": [
    "lvals = np.arange(lmax+1)\n",
    "fobs_nHz = fobs*10**9\n",
    "fobs_yrs = fobs*YR\n",
    "ff_labels = (0,9,19,29,39)\n",
    "nshow = 10"
   ]
  },
  {
   "cell_type": "code",
   "execution_count": null,
   "metadata": {},
   "outputs": [],
   "source": [
    "fig = plot_ClC0_medians(fobs, Cl_best, lmax, nshow=25, xx_Nihan=freq_bins_Hz, Cl_nihan=Cl_nihan,\n",
    "                        figsize=(7/1.65, 6/1.65))\n",
    "ax = fig.axes[0]\n",
    "\n",
    "ax.set_xlim(fobs[0]-10**-10, 1/YR)   # fontsize of the x and y labels\n",
    "plt.rc('xtick', labelsize=10)    # fontsize of the tick labels\n",
    "plt.rc('ytick', labelsize=10) \n",
    "\n",
    "# fig1.legend(bbox_to_anchor=(0,0), loc='upper left', bbox_transform=ax.transAxes)\n",
    "ax.legend(loc='lower right', ncols=3, fontsize=8)\n",
    "\n",
    "# fig.tight_layout()\n",
    "# fig.savefig('/Users/emigardiner/GWs/holodeck/ecg-notebooks/anisotropy/modelhc2dOm_ClC0_ns%d.png' % nside, dpi=300)\n",
    "# fig.text(0.05,1, 'nside=%d' % nside)\n",
    "fig.tight_layout()"
   ]
  },
  {
   "cell_type": "code",
   "execution_count": null,
   "metadata": {},
   "outputs": [],
   "source": [
    "fig = plot_ClC0_medians_big(fobs, Cl_best, lmax, nshow=20, xx_Nihan=freq_bins_Hz, Cl_nihan=Cl_nihan,\n",
    "                            show_spk=True, xmin = fobs[0]-10**-10, xmax = 1/YR, ymin = 10**-4, ymax = 1.5)\n",
    "ax = fig.axes[0]\n",
    "ax.legend(loc='lower right', ncols=4)\n",
    "\n",
    "fig.text(0.05,1, 'nside=%d, pspace=%s' % (nside, pspace), fontsize=14)\n",
    "fig.tight_layout()"
   ]
  },
  {
   "attachments": {},
   "cell_type": "markdown",
   "metadata": {},
   "source": [
    "## 09a ns08"
   ]
  },
  {
   "cell_type": "code",
   "execution_count": null,
   "metadata": {},
   "outputs": [],
   "source": [
    "pspace = 'Uniform09A'\n",
    "nside = 8\n",
    "\n",
    "filename1 = '/Users/emigardiner/GWs/holodeck/output/brc_output/ss58_anis09A_2023-06-15_uniform-09a_n1000_r50_f40_l2000/anisotropy/sph_harm_hc2dOm_lmax6_ns08_r50_b00-99.npz'"
   ]
  },
  {
   "cell_type": "code",
   "execution_count": null,
   "metadata": {},
   "outputs": [],
   "source": [
    "vals = read_one_anis_file(filename1)\n",
    "fobs = vals['fobs']\n",
    "lmax = vals['lmax']\n",
    "Cl_best = vals['Cl_best']"
   ]
  },
  {
   "cell_type": "code",
   "execution_count": null,
   "metadata": {},
   "outputs": [],
   "source": [
    "fig = plot_ClC0_medians(fobs, Cl_best, lmax, nshow=0, xx_Nihan=freq_bins_Hz, Cl_nihan=Cl_nihan,\n",
    "                        figsize=(7/1.65, 6/1.65))\n",
    "ax = fig.axes[0]\n",
    "\n",
    "ax.set_xlim(fobs[0]-10**-10, 1/YR)   # fontsize of the x and y labels\n",
    "plt.rc('xtick', labelsize=10)    # fontsize of the tick labels\n",
    "plt.rc('ytick', labelsize=10) \n",
    "\n",
    "# fig1.legend(bbox_to_anchor=(0,0), loc='upper left', bbox_transform=ax.transAxes)\n",
    "ax.legend(loc='lower right', ncols=3, fontsize=8)\n",
    "\n",
    "# fig.tight_layout()\n",
    "# fig.savefig('/Users/emigardiner/GWs/holodeck/ecg-notebooks/anisotropy/modelhc2dOm_ClC0_ns%d.png' % nside, dpi=300)\n",
    "# fig.text(0.05,1, 'nside=%d' % nside)\n",
    "fig.tight_layout()"
   ]
  },
  {
   "cell_type": "code",
   "execution_count": null,
   "metadata": {},
   "outputs": [],
   "source": [
    "fig = plot_ClC0_medians_big(fobs, Cl_best, lmax, nshow=25, xx_Nihan=freq_bins_Hz, Cl_nihan=Cl_nihan,\n",
    "                            show_spk=True, xmin = fobs[0]-10**-10, xmax = 1/YR, ymin = 10**-4, ymax = 1.5)\n",
    "ax = fig.axes[0]\n",
    "ax.legend(loc='lower right', ncols=4)\n",
    "\n",
    "fig.text(0.05,1, 'nside=%d, pspace=%s' % (nside, pspace), fontsize=14)\n",
    "fig.tight_layout()"
   ]
  },
  {
   "attachments": {},
   "cell_type": "markdown",
   "metadata": {},
   "source": [
    "### 25 best (09A ns08)"
   ]
  },
  {
   "cell_type": "code",
   "execution_count": null,
   "metadata": {},
   "outputs": [],
   "source": [
    "fig = plot_ClC0_medians_big(fobs, Cl_best[:25], lmax, nshow=25, xx_Nihan=freq_bins_Hz, Cl_nihan=Cl_nihan,\n",
    "                            show_spk=True, xmin = fobs[0]-10**-10, xmax = 1/YR, ymin = 10**-4, ymax = 1.5)\n",
    "ax = fig.axes[0]\n",
    "ax.legend(loc='lower right', ncols=4)\n",
    "\n",
    "fig.text(0.05,1, 'nside=%d, pspace=%s, best 25' % (nside, pspace), fontsize=14)\n",
    "fig.tight_layout()"
   ]
  },
  {
   "attachments": {},
   "cell_type": "markdown",
   "metadata": {},
   "source": [
    "# Uniform_07A"
   ]
  },
  {
   "attachments": {},
   "cell_type": "markdown",
   "metadata": {},
   "source": [
    "## 07a nside 32"
   ]
  },
  {
   "cell_type": "code",
   "execution_count": null,
   "metadata": {},
   "outputs": [],
   "source": [
    "pspace = 'Uniform07A'\n",
    "nside = 32\n",
    "\n",
    "filename1 = '/Users/emigardiner/GWs/holodeck/output/brc_output/ss51-2023-05-22_uniform_07a_n1000_r100_f40_l2000/anisotropy/sph_harm_hc2dOm_lmax6_ns32_r50_b00-49.npz'\n",
    "filename2 = '/Users/emigardiner/GWs/holodeck/output/brc_output/ss51-2023-05-22_uniform_07a_n1000_r100_f40_l2000/anisotropy/sph_harm_hc2dOm_lmax6_ns32_r50_b50-99.npz'\n",
    "\n",
    "vals = read_split2_anis_file(filename1, filename2)"
   ]
  },
  {
   "cell_type": "code",
   "execution_count": null,
   "metadata": {},
   "outputs": [],
   "source": [
    "fobs = vals['fobs']\n",
    "lmax = vals['lmax']\n",
    "Cl_best = vals['Cl_best']"
   ]
  },
  {
   "cell_type": "code",
   "execution_count": null,
   "metadata": {},
   "outputs": [],
   "source": [
    "lvals = np.arange(lmax+1)\n",
    "fobs_nHz = fobs*10**9\n",
    "fobs_yrs = fobs*YR\n",
    "ff_labels = (0,9,19,29,39)\n",
    "nshow = 10"
   ]
  },
  {
   "cell_type": "code",
   "execution_count": null,
   "metadata": {},
   "outputs": [],
   "source": [
    "fig = plot_ClC0_medians(fobs, Cl_best, lmax, nshow=25, xx_Nihan=freq_bins_Hz, Cl_nihan=Cl_nihan,\n",
    "                        figsize=(7/1.65, 6/1.65))\n",
    "ax = fig.axes[0]\n",
    "\n",
    "ax.set_xlim(fobs[0]-10**-10, 1/YR)   # fontsize of the x and y labels\n",
    "plt.rc('xtick', labelsize=10)    # fontsize of the tick labels\n",
    "plt.rc('ytick', labelsize=10) \n",
    "\n",
    "# fig1.legend(bbox_to_anchor=(0,0), loc='upper left', bbox_transform=ax.transAxes)\n",
    "ax.legend(loc='lower right', ncols=3, fontsize=8)\n",
    "\n",
    "# fig.tight_layout()\n",
    "# fig.savefig('/Users/emigardiner/GWs/holodeck/ecg-notebooks/anisotropy/modelhc2dOm_ClC0_ns%d.png' % nside, dpi=300)\n",
    "# fig.text(0.05,1, 'nside=%d' % nside)\n",
    "fig.tight_layout()"
   ]
  },
  {
   "cell_type": "code",
   "execution_count": null,
   "metadata": {},
   "outputs": [],
   "source": [
    "fig = plot_ClC0_medians_big(fobs, Cl_best, lmax, nshow=25, xx_Nihan=freq_bins_Hz, Cl_nihan=Cl_nihan,\n",
    "                            show_spk=True, xmin = fobs[0]-10**-10, xmax = 1/YR, ymin = 10**-4, ymax = 1.5)\n",
    "ax = fig.axes[0]\n",
    "ax.legend(loc='lower right', ncols=4)\n",
    "\n",
    "fig.text(0.05,1, 'nside=%d, pspace=%s' % (nside, pspace), fontsize=14)\n",
    "fig.tight_layout()"
   ]
  },
  {
   "attachments": {},
   "cell_type": "markdown",
   "metadata": {},
   "source": [
    "## 07A nside 08"
   ]
  },
  {
   "cell_type": "code",
   "execution_count": null,
   "metadata": {},
   "outputs": [],
   "source": [
    "pspace = 'Uniform07A'\n",
    "nside = 8\n",
    "\n",
    "filename1 = '/Users/emigardiner/GWs/holodeck/output/brc_output/ss51-2023-05-22_uniform_07a_n1000_r100_f40_l2000/anisotropy/sph_harm_hc2dOm_lmax6_ns08_r50_b00-49.npz'\n",
    "filename2 = '/Users/emigardiner/GWs/holodeck/output/brc_output/ss51-2023-05-22_uniform_07a_n1000_r100_f40_l2000/anisotropy/sph_harm_hc2dOm_lmax6_ns08_r50_b50-99.npz'\n",
    "\n",
    "vals = read_split2_anis_file(filename1, filename2)"
   ]
  },
  {
   "cell_type": "code",
   "execution_count": null,
   "metadata": {},
   "outputs": [],
   "source": [
    "fobs = vals['fobs']\n",
    "lmax = vals['lmax']\n",
    "Cl_best = vals['Cl_best']"
   ]
  },
  {
   "cell_type": "code",
   "execution_count": null,
   "metadata": {},
   "outputs": [],
   "source": [
    "lvals = np.arange(lmax+1)\n",
    "fobs_nHz = fobs*10**9\n",
    "fobs_yrs = fobs*YR\n",
    "ff_labels = (0,9,19,29,39)\n",
    "nshow = 10"
   ]
  },
  {
   "cell_type": "code",
   "execution_count": null,
   "metadata": {},
   "outputs": [],
   "source": [
    "fig = plot_ClC0_medians(fobs, Cl_best, lmax, nshow=25, xx_Nihan=freq_bins_Hz, Cl_nihan=Cl_nihan,\n",
    "                        figsize=(7/1.65, 6/1.65))\n",
    "ax = fig.axes[0]\n",
    "\n",
    "ax.set_xlim(fobs[0]-10**-10, 1/YR)   # fontsize of the x and y labels\n",
    "plt.rc('xtick', labelsize=10)    # fontsize of the tick labels\n",
    "plt.rc('ytick', labelsize=10) \n",
    "\n",
    "# fig1.legend(bbox_to_anchor=(0,0), loc='upper left', bbox_transform=ax.transAxes)\n",
    "ax.legend(loc='lower right', ncols=3, fontsize=8)\n",
    "\n",
    "# fig.tight_layout()\n",
    "# fig.savefig('/Users/emigardiner/GWs/holodeck/ecg-notebooks/anisotropy/modelhc2dOm_ClC0_ns%d.png' % nside, dpi=300)\n",
    "# fig.text(0.05,1, 'nside=%d' % nside)\n",
    "fig.tight_layout()"
   ]
  },
  {
   "cell_type": "code",
   "execution_count": null,
   "metadata": {},
   "outputs": [],
   "source": [
    "fig = plot_ClC0_medians_big(fobs, Cl_best, lmax, nshow=25, xx_Nihan=freq_bins_Hz, Cl_nihan=Cl_nihan,\n",
    "                            show_spk=True, xmin = fobs[0]-10**-10, xmax = 1/YR, ymin = 10**-4, ymax = 1.5)\n",
    "ax = fig.axes[0]\n",
    "ax.legend(loc='lower right', ncols=4)\n",
    "\n",
    "fig.text(0.05,1, 'nside=%d, pspace=%s' % (nside, pspace), fontsize=14)\n",
    "fig.tight_layout()"
   ]
  },
  {
   "attachments": {},
   "cell_type": "markdown",
   "metadata": {},
   "source": [
    "### 25 best (07A ns08)"
   ]
  },
  {
   "cell_type": "code",
   "execution_count": null,
   "metadata": {},
   "outputs": [],
   "source": [
    "fig = plot_ClC0_medians_big(fobs, Cl_best[:25], lmax, nshow=25, xx_Nihan=freq_bins_Hz, Cl_nihan=Cl_nihan,\n",
    "                            show_spk=True, xmin = fobs[0]-10**-10, xmax = 1/YR, ymin = 10**-4, ymax = 1.5)\n",
    "ax = fig.axes[0]\n",
    "ax.legend(loc='lower right', ncols=4)\n",
    "\n",
    "fig.text(0.05,1, 'nside=%d, pspace=%s, best 25' % (nside, pspace), fontsize=14)\n",
    "fig.tight_layout()"
   ]
  },
  {
   "attachments": {},
   "cell_type": "markdown",
   "metadata": {},
   "source": [
    "# Uniform_05A"
   ]
  },
  {
   "attachments": {},
   "cell_type": "markdown",
   "metadata": {},
   "source": [
    "## 05A ns08"
   ]
  },
  {
   "cell_type": "code",
   "execution_count": null,
   "metadata": {},
   "outputs": [],
   "source": [
    "pspace = 'Uniform_05A'\n",
    "nside = 32\n",
    "\n",
    "filename1 = '/Users/emigardiner/GWs/holodeck/output/2023-05-16-mbp-ss19_uniform05A_n1000_r50_d20_f30_l2000_p0/anisotropy/sph_harm_hc2dOm_lmax6_ns08_r50_b00-49.npz'\n",
    "filename2 = '/Users/emigardiner/GWs/holodeck/output/2023-05-16-mbp-ss19_uniform05A_n1000_r50_d20_f30_l2000_p0/anisotropy/sph_harm_hc2dOm_lmax6_ns08_r50_b50-99.npz'\n",
    "\n",
    "vals = read_split2_anis_file(filename1, filename2)"
   ]
  },
  {
   "cell_type": "code",
   "execution_count": null,
   "metadata": {},
   "outputs": [],
   "source": [
    "fobs = vals['fobs']\n",
    "lmax = vals['lmax']\n",
    "Cl_best = vals['Cl_best']"
   ]
  },
  {
   "cell_type": "code",
   "execution_count": null,
   "metadata": {},
   "outputs": [],
   "source": [
    "lvals = np.arange(lmax+1)\n",
    "fobs_nHz = fobs*10**9\n",
    "fobs_yrs = fobs*YR\n",
    "ff_labels = (0,9,19,29,39)\n",
    "nshow = 10"
   ]
  },
  {
   "cell_type": "code",
   "execution_count": null,
   "metadata": {},
   "outputs": [],
   "source": [
    "fig = plot_ClC0_medians(fobs, Cl_best, lmax, nshow=25, xx_Nihan=freq_bins_Hz, Cl_nihan=Cl_nihan,\n",
    "                        figsize=(7/1.65, 6/1.65))\n",
    "ax = fig.axes[0]\n",
    "\n",
    "ax.set_xlim(fobs[0]-10**-10, 1/YR)   # fontsize of the x and y labels\n",
    "plt.rc('xtick', labelsize=10)    # fontsize of the tick labels\n",
    "plt.rc('ytick', labelsize=10) \n",
    "\n",
    "# fig1.legend(bbox_to_anchor=(0,0), loc='upper left', bbox_transform=ax.transAxes)\n",
    "ax.legend(loc='lower right', ncols=3, fontsize=8)\n",
    "\n",
    "# fig.tight_layout()\n",
    "# fig.savefig('/Users/emigardiner/GWs/holodeck/ecg-notebooks/anisotropy/modelhc2dOm_ClC0_ns%d.png' % nside, dpi=300)\n",
    "# fig.text(0.05,1, 'nside=%d' % nside)\n",
    "fig.tight_layout()"
   ]
  },
  {
   "cell_type": "code",
   "execution_count": null,
   "metadata": {},
   "outputs": [],
   "source": [
    "fig = plot_ClC0_medians_big(fobs, Cl_best, lmax, nshow=25, xx_Nihan=freq_bins_Hz, Cl_nihan=Cl_nihan,\n",
    "                            show_spk=True, xmin = fobs[0]-10**-10, xmax = 1/YR, ymin = 10**-4, ymax = 1.5)\n",
    "ax = fig.axes[0]\n",
    "ax.legend(loc='lower right', ncols=4)\n",
    "\n",
    "fig.text(0.05,1, 'nside=%d, pspace=%s' % (nside, pspace), fontsize=14)\n",
    "fig.tight_layout()"
   ]
  },
  {
   "attachments": {},
   "cell_type": "markdown",
   "metadata": {},
   "source": [
    "### 25 best (05A ns32)"
   ]
  },
  {
   "cell_type": "code",
   "execution_count": null,
   "metadata": {},
   "outputs": [],
   "source": [
    "fig = plot_ClC0_medians_big(fobs, Cl_best[:25], lmax, nshow=25, xx_Nihan=freq_bins_Hz, Cl_nihan=Cl_nihan,\n",
    "                            show_spk=True, xmin = fobs[0]-10**-10, xmax = 1/YR, ymin = 10**-4, ymax = 1.5)\n",
    "ax = fig.axes[0]\n",
    "ax.legend(loc='lower right', ncols=4)\n",
    "\n",
    "fig.text(0.05,1, 'nside=%d, pspace=%s, best 25' % (nside, pspace), fontsize=14)\n",
    "fig.tight_layout()"
   ]
  },
  {
   "attachments": {},
   "cell_type": "markdown",
   "metadata": {},
   "source": [
    "# Uniform07_GW"
   ]
  },
  {
   "attachments": {},
   "cell_type": "markdown",
   "metadata": {},
   "source": [
    "## 07GW ns08"
   ]
  },
  {
   "cell_type": "code",
   "execution_count": null,
   "metadata": {},
   "outputs": [],
   "source": [
    "pspace = 'Uniform_07_GW'\n",
    "nside = 8\n",
    "\n",
    "filename1 = '/Users/emigardiner/GWs/holodeck/output/brc_output/ss59_anis07GW_2023-06-15_uniform-07-gw_n1000_r50_f40_l2000/anisotropy/sph_harm_hc2dOm_lmax6_ns08_r50_b00-49.npz'\n",
    "filename2 = '/Users/emigardiner/GWs/holodeck/output/brc_output/ss59_anis07GW_2023-06-15_uniform-07-gw_n1000_r50_f40_l2000/anisotropy/sph_harm_hc2dOm_lmax6_ns08_r50_b50-99.npz'\n",
    "\n",
    "vals = read_split2_anis_file(filename1, filename2)"
   ]
  },
  {
   "cell_type": "code",
   "execution_count": null,
   "metadata": {},
   "outputs": [],
   "source": [
    "fobs = vals['fobs']\n",
    "lmax = vals['lmax']\n",
    "Cl_best = vals['Cl_best']"
   ]
  },
  {
   "cell_type": "code",
   "execution_count": null,
   "metadata": {},
   "outputs": [],
   "source": [
    "lvals = np.arange(lmax+1)\n",
    "fobs_nHz = fobs*10**9\n",
    "fobs_yrs = fobs*YR\n",
    "ff_labels = (0,9,19,29,39)\n",
    "nshow = 10"
   ]
  },
  {
   "cell_type": "code",
   "execution_count": null,
   "metadata": {},
   "outputs": [],
   "source": [
    "fig = plot_ClC0_medians(fobs, Cl_best, lmax, nshow=25, xx_Nihan=freq_bins_Hz, Cl_nihan=Cl_nihan,\n",
    "                        figsize=(7/1.65, 6/1.65))\n",
    "ax = fig.axes[0]\n",
    "\n",
    "ax.set_xlim(fobs[0]-10**-10, 1/YR)   # fontsize of the x and y labels\n",
    "plt.rc('xtick', labelsize=10)    # fontsize of the tick labels\n",
    "plt.rc('ytick', labelsize=10) \n",
    "\n",
    "# fig1.legend(bbox_to_anchor=(0,0), loc='upper left', bbox_transform=ax.transAxes)\n",
    "ax.legend(loc='lower right', ncols=3, fontsize=8)\n",
    "\n",
    "# fig.tight_layout()\n",
    "# fig.savefig('/Users/emigardiner/GWs/holodeck/ecg-notebooks/anisotropy/modelhc2dOm_ClC0_ns%d.png' % nside, dpi=300)\n",
    "# fig.text(0.05,1, 'nside=%d' % nside)\n",
    "fig.tight_layout()"
   ]
  },
  {
   "cell_type": "code",
   "execution_count": null,
   "metadata": {},
   "outputs": [],
   "source": [
    "fig = plot_ClC0_medians_big(fobs, Cl_best, lmax, nshow=25, xx_Nihan=freq_bins_Hz, Cl_nihan=Cl_nihan,\n",
    "                            show_spk=True, xmin = fobs[0]-10**-10, xmax = 1/YR, ymin = 10**-4, ymax = 1.5)\n",
    "ax = fig.axes[0]\n",
    "ax.legend(loc='lower right', ncols=4)\n",
    "\n",
    "fig.text(0.05,1, 'nside=%d, pspace=%s' % (nside, pspace), fontsize=14)\n",
    "fig.tight_layout()"
   ]
  },
  {
   "attachments": {},
   "cell_type": "markdown",
   "metadata": {},
   "source": [
    "### 25 best (07GW ns08)"
   ]
  },
  {
   "cell_type": "code",
   "execution_count": null,
   "metadata": {},
   "outputs": [],
   "source": [
    "fig = plot_ClC0_medians_big(fobs, Cl_best[:25], lmax, nshow=25, xx_Nihan=freq_bins_Hz, Cl_nihan=Cl_nihan,\n",
    "                            show_spk=True, xmin = fobs[0]-10**-10, xmax = 1/YR, ymin = 10**-4, ymax = 1.5)\n",
    "ax = fig.axes[0]\n",
    "ax.legend(loc='lower right', ncols=4)\n",
    "\n",
    "fig.text(0.05,1, 'nside=%d, pspace=%s, best 25' % (nside, pspace), fontsize=14)\n",
    "fig.tight_layout()"
   ]
  },
  {
   "attachments": {},
   "cell_type": "markdown",
   "metadata": {},
   "source": [
    "# Uniform_09B"
   ]
  },
  {
   "attachments": {},
   "cell_type": "markdown",
   "metadata": {},
   "source": [
    "## 09B ns08"
   ]
  },
  {
   "cell_type": "code",
   "execution_count": null,
   "metadata": {},
   "outputs": [],
   "source": [
    "pspace = 'Uniform_09B'\n",
    "nside = 8\n",
    "\n",
    "filename1 = '/Users/emigardiner/GWs/holodeck/output/brc_output/ss60_anis09B_2023-06-16_uniform-09b_n1000_r50_f40_l2000/anisotropy/sph_harm_hc2dOm_lmax6_ns08_r50_b00-99.npz'\n",
    "\n",
    "vals = read_one_anis_file(filename1)"
   ]
  },
  {
   "cell_type": "code",
   "execution_count": null,
   "metadata": {},
   "outputs": [],
   "source": [
    "fobs = vals['fobs']\n",
    "lmax = vals['lmax']\n",
    "Cl_best = vals['Cl_best']"
   ]
  },
  {
   "cell_type": "code",
   "execution_count": null,
   "metadata": {},
   "outputs": [],
   "source": [
    "lvals = np.arange(lmax+1)\n",
    "fobs_nHz = fobs*10**9\n",
    "fobs_yrs = fobs*YR\n",
    "ff_labels = (0,9,19,29,39)\n",
    "nshow = 10"
   ]
  },
  {
   "cell_type": "code",
   "execution_count": null,
   "metadata": {},
   "outputs": [],
   "source": [
    "def draw_linear(ax):\n",
    "    linear = np.load('/Users/emigardiner/GWs/holodeck/ecg-notebooks/anisotropy/linear_sph_Cl.npy')\n",
    "    colors = ['#0a5da4', '#00ba44', '#ff9503', '#fe2c02', '#845b98', '#474747']\n",
    "    for ii, yy in enumerate(linear[1:]):\n",
    "        ax.axhline(yy, color = colors[ii], linestyle=':')\n",
    "        print(yy)"
   ]
  },
  {
   "cell_type": "code",
   "execution_count": null,
   "metadata": {},
   "outputs": [],
   "source": [
    "fig = plot_ClC0_medians(fobs, Cl_best, lmax, nshow=0, xx_Nihan=freq_bins_Hz, Cl_nihan=Cl_nihan,\n",
    "                        figsize=(7/1.65, 6/1.65), yscale='log')\n",
    "ax = fig.axes[0]\n",
    "# draw_linear(ax)\n",
    "\n",
    "ax.set_xlim(fobs[0]-10**-10, 1/YR)   # fontsize of the x and y labels\n",
    "plt.rc('xtick', labelsize=10)    # fontsize of the tick labels\n",
    "plt.rc('ytick', labelsize=10) \n",
    "\n",
    "# fig1.legend(bbox_to_anchor=(0,0), loc='upper left', bbox_transform=ax.transAxes)\n",
    "ax.legend(loc='lower right', ncols=3, fontsize=8)\n",
    "ax.set_ylim(0,0.9)\n",
    "\n",
    "plot._twin_yr(ax, nano=False)\n",
    "\n",
    "fig.tight_layout()\n",
    "fig.savefig('/Users/emigardiner/GWs/holodeck/ecg-notebooks/anisotropy/model09B_ClC0_ns%d.png' % nside, dpi=300)\n",
    "# fig.text(0.05,1, 'nside=%d' % nside)\n",
    "# fig.tight_layout()"
   ]
  },
  {
   "cell_type": "code",
   "execution_count": null,
   "metadata": {},
   "outputs": [],
   "source": [
    "print(Cl_nihan[:,0])\n",
    "print(freq_bins_Hz)"
   ]
  },
  {
   "cell_type": "code",
   "execution_count": null,
   "metadata": {},
   "outputs": [],
   "source": [
    "fig = plot_ClC0_medians(fobs, Cl_best, lmax, nshow=0, \n",
    "                        figsize=(7/1.65, 6/1.65), yscale='log')\n",
    "\n",
    "\n",
    "\n",
    "colors = ['#0a5da4', '#00ba44', '#ff9503', '#fe2c02', '#845b98', '#474747']\n",
    "\n",
    "            \n",
    "\n",
    "ax = fig.axes[0]\n",
    "# draw_linear(ax)\n",
    "\n",
    "# Add Nihan's data\n",
    "ax.plot(freq_bins_Hz, Cl_nihan[:,0], \n",
    "        label = '$l=%d$' % (1), \n",
    "    color=colors[0], marker='o', linestyle='--', ms=5)\n",
    "\n",
    "ax.set_xlim(fobs[0]-10**-10, 1/YR)   # fontsize of the x and y labels\n",
    "plt.rc('xtick', labelsize=10)    # fontsize of the tick labels\n",
    "plt.rc('ytick', labelsize=10) \n",
    "\n",
    "# fig1.legend(bbox_to_anchor=(0,0), loc='upper left', bbox_transform=ax.transAxes)\n",
    "ax.legend(loc='lower right', ncols=3, fontsize=8)\n",
    "ax.set_ylim(0,0.9)\n",
    "\n",
    "plot._twin_yr(ax, nano=False)\n",
    "\n",
    "fig.tight_layout()\n",
    "fig.savefig('/Users/emigardiner/GWs/holodeck/ecg-notebooks/anisotropy/model09B_ClC0_ns%d_1lim.png' % nside, dpi=300)\n",
    "# fig.text(0.05,1, 'nside=%d' % nside)\n",
    "# fig.tight_layout()"
   ]
  },
  {
   "cell_type": "code",
   "execution_count": null,
   "metadata": {},
   "outputs": [],
   "source": [
    "fig = plot_ClC0_medians_big(fobs, Cl_best, lmax, nshow=25, xx_Nihan=freq_bins_Hz, Cl_nihan=Cl_nihan,\n",
    "                            show_spk=False, xmin = fobs[0]-10**-10, xmax = 1/YR, ymin = 10**-3, ymax = 1.5)\n",
    "ax = fig.axes[0]\n",
    "draw_linear(ax)\n",
    "ax.legend(loc='lower right', ncols=3)\n",
    "\n",
    "fig.text(0.05,1, 'nside=%d, pspace=%s' % (nside, pspace), fontsize=14)\n",
    "fig.tight_layout()"
   ]
  },
  {
   "cell_type": "markdown",
   "metadata": {},
   "source": [
    "### 09B BUG Version"
   ]
  },
  {
   "cell_type": "code",
   "execution_count": null,
   "metadata": {},
   "outputs": [],
   "source": [
    "pspace = 'Uniform_09B'\n",
    "nside = 8\n",
    "\n",
    "filename1 = '/Users/emigardiner/GWs/holodeck/output/brc_output/ss60_anis09B_2023-06-16_uniform-09b_n1000_r50_f40_l2000/anisotropy/sph_harm_hc2dOm_lmax6_ns08_r50_b00-99_BUG.npz'\n",
    "\n",
    "vals = read_one_anis_file(filename1)"
   ]
  },
  {
   "cell_type": "code",
   "execution_count": null,
   "metadata": {},
   "outputs": [],
   "source": [
    "fobs = vals['fobs']\n",
    "lmax = vals['lmax']\n",
    "Cl_best = vals['Cl_best']"
   ]
  },
  {
   "cell_type": "code",
   "execution_count": null,
   "metadata": {},
   "outputs": [],
   "source": [
    "lvals = np.arange(lmax+1)\n",
    "fobs_nHz = fobs*10**9\n",
    "fobs_yrs = fobs*YR\n",
    "ff_labels = (0,9,19,29,39)\n",
    "nshow = 10"
   ]
  },
  {
   "cell_type": "code",
   "execution_count": null,
   "metadata": {},
   "outputs": [],
   "source": [
    "fig = plot_ClC0_medians(fobs, Cl_best, lmax, nshow=0, xx_Nihan=freq_bins_Hz, Cl_nihan=Cl_nihan,\n",
    "                        figsize=(7/1.65, 6/1.65), yscale='log')\n",
    "ax = fig.axes[0]\n",
    "draw_linear(ax)\n",
    "\n",
    "ax.set_xlim(fobs[0]-10**-10, 1/YR)   # fontsize of the x and y labels\n",
    "plt.rc('xtick', labelsize=10)    # fontsize of the tick labels\n",
    "plt.rc('ytick', labelsize=10) \n",
    "\n",
    "# fig1.legend(bbox_to_anchor=(0,0), loc='upper left', bbox_transform=ax.transAxes)\n",
    "ax.legend(loc='lower right', ncols=3, fontsize=8)\n",
    "ax.set_ylim(0,0.9)\n",
    "\n",
    "plot._twin_yr(ax, nano=False)\n",
    "fig.text(0.05,1, 'BUG', fontsize=14, va='top', ha='left')\n",
    "\n",
    "fig.tight_layout()\n",
    "# fig.savefig('/Users/emigardiner/GWs/holodeck/ecg-notebooks/anisotropy/model09B_ClC0_ns%d.png' % nside, dpi=300)\n",
    "# fig.text(0.05,1, 'nside=%d' % nside)\n",
    "# fig.tight_layout()"
   ]
  },
  {
   "cell_type": "code",
   "execution_count": null,
   "metadata": {},
   "outputs": [],
   "source": [
    "fig = plot_ClC0_medians_big(fobs, Cl_best, lmax, nshow=25, xx_Nihan=freq_bins_Hz, Cl_nihan=Cl_nihan,\n",
    "                            show_spk=False, xmin = fobs[0]-10**-10, xmax = 1/YR, ymin = 10**-3, ymax = 1.5)\n",
    "ax = fig.axes[0]\n",
    "draw_linear(ax)\n",
    "ax.legend(loc='lower right', ncols=3)\n",
    "\n",
    "fig.text(0.05,1, 'nside=%d, pspace=%s, with BUG' % (nside, pspace), fontsize=14)\n",
    "fig.tight_layout()"
   ]
  },
  {
   "attachments": {},
   "cell_type": "markdown",
   "metadata": {},
   "source": [
    "### 25 best (09B ns08)"
   ]
  },
  {
   "cell_type": "code",
   "execution_count": null,
   "metadata": {},
   "outputs": [],
   "source": [
    "fig = plot_ClC0_medians_big(fobs, Cl_best[:25], lmax, nshow=25, xx_Nihan=freq_bins_Hz, Cl_nihan=Cl_nihan,\n",
    "                            show_spk=True, xmin = fobs[0]-10**-10, xmax = 1/YR, ymin = 10**-4, ymax = 1.5)\n",
    "ax = fig.axes[0]\n",
    "ax.legend(loc='lower right', ncols=4)\n",
    "\n",
    "fig.text(0.05,1, 'nside=%d, pspace=%s, best 25' % (nside, pspace), fontsize=14)\n",
    "fig.tight_layout()"
   ]
  },
  {
   "cell_type": "code",
   "execution_count": null,
   "metadata": {},
   "outputs": [],
   "source": []
  }
 ],
 "metadata": {
  "kernelspec": {
   "display_name": "holo310",
   "language": "python",
   "name": "python3"
  },
  "language_info": {
   "codemirror_mode": {
    "name": "ipython",
    "version": 3
   },
   "file_extension": ".py",
   "mimetype": "text/x-python",
   "name": "python",
   "nbconvert_exporter": "python",
   "pygments_lexer": "ipython3",
   "version": "3.10.10"
  }
 },
 "nbformat": 4,
 "nbformat_minor": 2
}
