{
 "cells": [
  {
   "cell_type": "code",
   "execution_count": null,
   "metadata": {},
   "outputs": [],
   "source": [
    "%reload_ext autoreload\n",
    "%autoreload 2\n",
    "from importlib import reload\n",
    "\n",
    "import numpy as np\n",
    "import matplotlib.pyplot as plt\n",
    "import matplotlib.cm as cm\n",
    "import h5py\n",
    "import os\n",
    "from tqdm import tqdm\n",
    "\n",
    "from holodeck import plot, detstats, utils\n",
    "from holodeck.constants import YR, MSOL, MPC, GYR\n",
    "import holodeck as holo"
   ]
  },
  {
   "cell_type": "markdown",
   "metadata": {},
   "source": [
    "# Find Best Sample"
   ]
  },
  {
   "cell_type": "markdown",
   "metadata": {},
   "source": [
    "load hdf file"
   ]
  },
  {
   "cell_type": "code",
   "execution_count": null,
   "metadata": {},
   "outputs": [],
   "source": [
    "hdfname = '/Users/emigardiner/GWs/holodeck/output/brc_output/ss64_09Bn1000_2023-06-22_uniform-09b_n1000_r100_f40_l10/sam_lib.hdf5'\n",
    "hdf = h5py.File(hdfname, 'r')\n",
    "print(hdf.keys())\n",
    "\n",
    "hc_ss_all = hdf['hc_ss'][...]\n",
    "hc_bg_all = hdf['hc_bg'][...]\n",
    "fobs = hdf['fobs'][:]\n",
    "sample_params = hdf['sample_params'][...]\n",
    "hdf.close()\n",
    "\n",
    "nsamps, nfreqs, nreals, nloudest = [*hc_ss_all.shape]\n",
    "print(f\"{nsamps=}, {nfreqs=}, {nreals=}, {nloudest=}\")\n"
   ]
  },
  {
   "cell_type": "markdown",
   "metadata": {},
   "source": [
    "sort by 15yr match"
   ]
  },
  {
   "cell_type": "code",
   "execution_count": null,
   "metadata": {},
   "outputs": [],
   "source": [
    "nsort, fidx, hc_ref15 = detstats.rank_samples(hc_ss_all, hc_bg_all, fobs, fidx=1, ret_all=True)\n",
    "print(nsort[:5])\n"
   ]
  },
  {
   "cell_type": "markdown",
   "metadata": {},
   "source": [
    "get parameters"
   ]
  },
  {
   "cell_type": "code",
   "execution_count": null,
   "metadata": {},
   "outputs": [],
   "source": [
    "pspace = holo.param_spaces.PS_Uniform_09B(holo.log, nsamples=1, sam_shape=None, seed=None)\n",
    "param_names = pspace.param_names"
   ]
  },
  {
   "cell_type": "code",
   "execution_count": null,
   "metadata": {},
   "outputs": [],
   "source": [
    "params = {}\n",
    "for nn in nsort[:1]:\n",
    "    print(f\"sample {nn}:\")\n",
    "    for ii, target in enumerate(param_names):\n",
    "        params[target] = sample_params[nn,ii]\n",
    "        print(f\"\\t{target}={sample_params[nn,ii]}\")\n",
    "print(f\"{params=}\")"
   ]
  },
  {
   "cell_type": "markdown",
   "metadata": {},
   "source": [
    "# Make new sample 219"
   ]
  },
  {
   "cell_type": "code",
   "execution_count": null,
   "metadata": {},
   "outputs": [],
   "source": [
    "NREALS = 15\n",
    "NLOUDEST = 100"
   ]
  },
  {
   "cell_type": "code",
   "execution_count": null,
   "metadata": {},
   "outputs": [],
   "source": [
    "print(params)"
   ]
  },
  {
   "cell_type": "code",
   "execution_count": null,
   "metadata": {},
   "outputs": [],
   "source": [
    "sam, hard = pspace.model_for_params(params=params, sam_shape=None)"
   ]
  },
  {
   "cell_type": "code",
   "execution_count": null,
   "metadata": {},
   "outputs": [],
   "source": [
    "data = holo.librarian.run_model(sam, hard, nreals=NREALS, nloudest=NLOUDEST, nfreqs=40,\n",
    "                              singles_flag=True, params_flag=True)"
   ]
  },
  {
   "cell_type": "markdown",
   "metadata": {},
   "source": [
    "Get characteristic strain, mass, and distance"
   ]
  },
  {
   "cell_type": "code",
   "execution_count": null,
   "metadata": {},
   "outputs": [],
   "source": [
    "hc_ss = data['hc_ss']\n",
    "hc_bg = data['hc_bg']\n",
    "fobs = data['fobs_cents']\n",
    "\n",
    "mtot = data['sspar'][0] # g\n",
    "mrat = data['sspar'][1] \n",
    "rz_f = data['sspar'][3]\n",
    "\n",
    "mchirp = holo.utils.chirp_mass_mtmr(mtot, mrat)\n",
    "dcom_f = holo.cosmo.comoving_distance(rz_f).to('cm').value # cm\n",
    "\n",
    "print(mchirp.shape)\n",
    "\n",
    "info = ['hc_ss: SS characteristic strain, indexed [F,R,L]',\n",
    "        'hc_bg: characteristic strain minus SS, indexed [F,R]',\n",
    "        'fobs: GW frequency bin centers in Hz, indexed [F]'\n",
    "        'mchirp: chirp mass in g, indexed [F,R,L]',\n",
    "        'dcom_f: final comoving distance in cm, indexed [F,R,L]',\n",
    "        'F=frequency, R=realization, L=loudest SS']"
   ]
  },
  {
   "cell_type": "markdown",
   "metadata": {},
   "source": [
    "Save to file"
   ]
  },
  {
   "cell_type": "code",
   "execution_count": null,
   "metadata": {},
   "outputs": [],
   "source": [
    "fileloc = '/Users/emigardiner/GWs/holodeck/output/brc_output/ss64_09Bn1000_2023-06-22_uniform-09b_n1000_r100_f40_l10'\n",
    "filename = fileloc+'/bence_holodata_ss64_219'\n",
    "np.savez(filename, hc_ss=hc_ss, hc_bg=hc_bg, fobs=fobs, mchirp=mchirp, dcom_f=dcom_f)"
   ]
  }
 ],
 "metadata": {
  "kernelspec": {
   "display_name": "holo310",
   "language": "python",
   "name": "python3"
  },
  "language_info": {
   "codemirror_mode": {
    "name": "ipython",
    "version": 3
   },
   "file_extension": ".py",
   "mimetype": "text/x-python",
   "name": "python",
   "nbconvert_exporter": "python",
   "pygments_lexer": "ipython3",
   "version": "3.10.12"
  }
 },
 "nbformat": 4,
 "nbformat_minor": 2
}
