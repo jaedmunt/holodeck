{
 "cells": [
  {
   "cell_type": "code",
   "execution_count": null,
   "metadata": {},
   "outputs": [],
   "source": [
    "%reload_ext autoreload\n",
    "%autoreload 2\n",
    "from importlib import reload\n",
    "\n",
    "import numpy as np\n",
    "import matplotlib.pyplot as plt\n",
    "\n",
    "from holodeck import plot, detstats, utils\n",
    "from holodeck.constants import YR, MSOL, MPC, GYR\n",
    "import holodeck as holo\n",
    "from holodeck import extensions as holo_extensions\n"
   ]
  },
  {
   "cell_type": "markdown",
   "metadata": {},
   "source": [
    "# Make realizer"
   ]
  },
  {
   "cell_type": "code",
   "execution_count": null,
   "metadata": {},
   "outputs": [],
   "source": [
    "f_cents, f_bins = holo.utils.pta_freqs()\n",
    "realizer = holo_extensions.Realizer(f_bins/2, resample=2.0, lifetime=3*GYR, mamp=1e9*MSOL, dens=2.0)\n"
   ]
  },
  {
   "cell_type": "code",
   "execution_count": null,
   "metadata": {},
   "outputs": [],
   "source": [
    "print(realizer)"
   ]
  },
  {
   "cell_type": "code",
   "execution_count": null,
   "metadata": {},
   "outputs": [],
   "source": [
    "for key in realizer.__dict__.keys():\n",
    "    print(key)\n",
    "\n",
    "binary_vals = realizer._binary_vals\n",
    "vals_names = realizer._vals_names\n",
    "weights = realizer._binary_weights\n",
    "\n",
    "print(f\"{vals_names=}\")\n",
    "print(f\"{binary_vals[0].shape=}\")\n",
    "print(f\"{len(realizer._binary_vals)=}\")\n",
    "# print(f\"{realizer._binary_weights=}\")\n",
    "print(f\"{weights.shape=}\")\n",
    "\n",
    "for ii in range(4):\n",
    "    print(f\"{realizer._vals_names[ii]} vals:\", holo.utils.stats(realizer._binary_vals[ii]))"
   ]
  },
  {
   "cell_type": "code",
   "execution_count": null,
   "metadata": {},
   "outputs": [],
   "source": [
    "for ii, val in enumerate(vals_names):\n",
    "    # if ii==1 or ii==3:\n",
    "    #     xscale='linear'\n",
    "    # else:\n",
    "    xscale='log'\n",
    "    fig, ax = plot.figax(xlabel=val, ylabel='weights', xscale=xscale)\n",
    "    ax.scatter(10**binary_vals[ii], weights, s=1, alpha=0.1)\n",
    "    print(f\"{realizer._vals_names[ii]} vals:\", holo.utils.stats(realizer._binary_vals[ii]))"
   ]
  },
  {
   "cell_type": "markdown",
   "metadata": {},
   "source": [
    "# Calling realizer()\n",
    "\n",
    "realizer() returns names, samples\n",
    "\n",
    "names is just ['mtot', 'mrat', 'redz', 'fobs']\n",
    "\n",
    "\n",
    "* mtots = 10^samples[0]\n",
    "* mrats = 10^samples[1]\n",
    "* redz = 10^samples[2]\n",
    "* f0 = 10^samples[3]\n",
    "\n",
    "but we want to keep all in log space"
   ]
  },
  {
   "cell_type": "code",
   "execution_count": null,
   "metadata": {},
   "outputs": [],
   "source": [
    "names, samples = realizer(down_sample=50)"
   ]
  },
  {
   "cell_type": "code",
   "execution_count": null,
   "metadata": {},
   "outputs": [],
   "source": [
    "print(samples)"
   ]
  },
  {
   "cell_type": "code",
   "execution_count": null,
   "metadata": {},
   "outputs": [],
   "source": [
    "print(samples.shape)"
   ]
  },
  {
   "cell_type": "markdown",
   "metadata": {},
   "source": [
    "# Make SAM version"
   ]
  },
  {
   "cell_type": "code",
   "execution_count": null,
   "metadata": {},
   "outputs": [],
   "source": [
    "params = {'hard_time': 2.3580737294474514, \n",
    "          'gsmf_phi0': -2.012540540307903, \n",
    "          'gsmf_mchar0_log10': 11.358074707612774, \n",
    "          'mmb_mamp_log10': 8.87144417474846, \n",
    "          'mmb_scatter_dex': 0.027976545572248435, \n",
    "          'hard_gamma_inner': -0.38268820924239666}"
   ]
  },
  {
   "cell_type": "code",
   "execution_count": null,
   "metadata": {},
   "outputs": [],
   "source": [
    "shape = [10,5,15]\n",
    "\n",
    "pspace = holo.param_spaces.PS_Uniform_09B(holo.log, nsamples=1, sam_shape=shape, seed=None)\n",
    "sam, hard = pspace.model_for_params(params=params, sam_shape=shape)"
   ]
  },
  {
   "cell_type": "code",
   "execution_count": null,
   "metadata": {},
   "outputs": [],
   "source": [
    "NREALS = 15\n",
    "NLOUDEST = 100\n",
    "\n",
    "data = holo.librarian.run_model(sam, hard, nreals=NREALS, nloudest=NLOUDEST, nfreqs=40,\n",
    "                              singles_flag=True, params_flag=True)"
   ]
  },
  {
   "cell_type": "code",
   "execution_count": null,
   "metadata": {},
   "outputs": [],
   "source": [
    "# properties in log space, for samples\n",
    "\n",
    "fobs = np.log10(data['fobs_cents'])\n",
    "mtot = np.log10(data['sspar'][0]) # log g\n",
    "mrat = np.log10(data['sspar'][1]) \n",
    "redz = np.log10(data['sspar'][3]) # final redshift, not initial"
   ]
  },
  {
   "cell_type": "code",
   "execution_count": null,
   "metadata": {},
   "outputs": [],
   "source": [
    "for arr in [mtot, mrat, redz, fobs]:\n",
    "    print(arr.shape)"
   ]
  },
  {
   "cell_type": "code",
   "execution_count": null,
   "metadata": {},
   "outputs": [],
   "source": [
    "def realizer_sam(params, nreals, nloudest, nfreqs=40,\n",
    "               pspace = holo.param_spaces.PS_Uniform_09B(holo.log, nsamples=1, sam_shape=None, seed=None)):\n",
    "    \"\"\" Like Realizer but for SAMs instead of illustris populations\n",
    "\n",
    "    Parameters\n",
    "    ----------\n",
    "\n",
    "    Returns\n",
    "    -------\n",
    "    names : names of parameters\n",
    "    samples : [R, 4, nloudest*nreals] NDarray\n",
    "        mtot, mrat, redz, and fobs of each source \n",
    "\n",
    "    sspar is in shape [F,R,L]\n",
    "    \n",
    "    \"\"\"\n",
    "    \n",
    "    sam, hard = pspace.model_for_params(params=params, sam_shape=None,)\n",
    "    data = holo.librarian.run_model(sam, hard, nreals=nreals, nloudest=nloudest, nfreqs=nfreqs,\n",
    "                              singles_flag=True, params_flag=True)\n",
    "    \n",
    "    vals_names=['mtot', 'mrat', 'redz', 'fobs']\n",
    "    fobs = np.log10(data['fobs_cents'])\n",
    "    fobs = np.repeat(fobs, nreals*nloudest).reshape(nfreqs, nreals, nloudest)\n",
    "    mtot = data['sspar'][0] # g\n",
    "    mrat = data['sspar'][1]\n",
    "    redz = data['sspar'][3] # final redshift, not initial\n",
    "\n",
    "    samples = []\n",
    "    for par in [mtot, mrat, redz, fobs]: # starts in shape F,R,L\n",
    "        par = np.swapaxes(par, 0, 1) # R,F,L\n",
    "        par = par.reshape(nreals, nfreqs*nloudest) # R, F*L\n",
    "        samples.append(np.log10(par))\n",
    "    samples = np.array(samples) # 4,R,F*L\n",
    "    samples = np.swapaxes(samples, 0,1) # R,4,F*L\n",
    "\n",
    "    return vals_names, samples"
   ]
  },
  {
   "cell_type": "code",
   "execution_count": null,
   "metadata": {},
   "outputs": [],
   "source": [
    "vals_names, samples = realizer_sam(params, 1, 100, pspace=pspace)\n",
    "print(f\"{samples.shape=}\")\n",
    "samples = samples.squeeze()\n",
    "print(f\"{samples.shape=}\")"
   ]
  },
  {
   "cell_type": "markdown",
   "metadata": {},
   "source": [
    "# Try Realizer_SAM class"
   ]
  },
  {
   "cell_type": "code",
   "execution_count": null,
   "metadata": {},
   "outputs": [],
   "source": [
    "print(sam.shape)"
   ]
  },
  {
   "cell_type": "code",
   "execution_count": null,
   "metadata": {},
   "outputs": [],
   "source": [
    "shape = None\n",
    "realizer = holo_extensions.Realizer_SAM(\n",
    "    fobs_orb_edges=f_bins/2, \n",
    "    params=params,\n",
    "    pspace=holo.param_spaces.PS_Uniform_09B(holo.log, nsamples=0, sam_shape=shape, seed=None))"
   ]
  },
  {
   "cell_type": "code",
   "execution_count": null,
   "metadata": {},
   "outputs": [],
   "source": [
    "# names, samples, weights = realizer(nreals=3, clean=True)\n",
    "%time names, samples, weights = realizer(nreals=3, clean=True)"
   ]
  },
  {
   "cell_type": "code",
   "execution_count": null,
   "metadata": {},
   "outputs": [],
   "source": [
    "for rr in range(len(weights)):\n",
    "\n",
    "    print(f\"{weights[rr].shape=}\")\n",
    "    print(f\"{samples[rr][0].shape=}\")"
   ]
  },
  {
   "cell_type": "code",
   "execution_count": null,
   "metadata": {},
   "outputs": [],
   "source": [
    "%time names, samples2, weights2 = realizer(nreals=3, clean=False)\n",
    "# names, samples2, weights2 = realizer(nreals=3, clean=False)"
   ]
  },
  {
   "cell_type": "code",
   "execution_count": null,
   "metadata": {},
   "outputs": [],
   "source": [
    "print(f\"{weights2.shape=}\")\n",
    "print(f\"{samples2[0].shape=}\")"
   ]
  },
  {
   "cell_type": "code",
   "execution_count": null,
   "metadata": {},
   "outputs": [],
   "source": [
    "samples3 = np.array(weights[0])\n",
    "print(samples3.shape)"
   ]
  },
  {
   "cell_type": "code",
   "execution_count": null,
   "metadata": {},
   "outputs": [],
   "source": [
    "RR=10000\n",
    "\n",
    "dirty_size = (samples2[0].size + weights2[:,0].size*RR)\n",
    "clean_size = (RR*(weights[0].size) + RR*(4*samples[0][0].size))\n",
    "print(f\"{clean_size/dirty_size=}\")"
   ]
  },
  {
   "cell_type": "code",
   "execution_count": null,
   "metadata": {},
   "outputs": [],
   "source": [
    "print(len(samples[0][1]))"
   ]
  },
  {
   "cell_type": "code",
   "execution_count": null,
   "metadata": {},
   "outputs": [],
   "source": [
    "print(RR*(weights[0].size) + RR*(4*samples[0][0].size))"
   ]
  },
  {
   "cell_type": "code",
   "execution_count": null,
   "metadata": {},
   "outputs": [],
   "source": [
    "print(len(samples2))"
   ]
  },
  {
   "cell_type": "code",
   "execution_count": null,
   "metadata": {},
   "outputs": [],
   "source": [
    "print(np.sum(weights[:,2]==0))"
   ]
  },
  {
   "cell_type": "code",
   "execution_count": null,
   "metadata": {},
   "outputs": [],
   "source": [
    "test = np.arange(20)\n",
    "test[test%3==0] = 0"
   ]
  },
  {
   "cell_type": "code",
   "execution_count": null,
   "metadata": {},
   "outputs": [],
   "source": [
    "mtots = samples[2][0]\n",
    "print(holo.utils.stats(mtots))"
   ]
  },
  {
   "cell_type": "code",
   "execution_count": null,
   "metadata": {},
   "outputs": [],
   "source": []
  }
 ],
 "metadata": {
  "kernelspec": {
   "display_name": "quickcw",
   "language": "python",
   "name": "python3"
  },
  "language_info": {
   "codemirror_mode": {
    "name": "ipython",
    "version": 3
   },
   "file_extension": ".py",
   "mimetype": "text/x-python",
   "name": "python",
   "nbconvert_exporter": "python",
   "pygments_lexer": "ipython3",
   "version": "3.10.12"
  }
 },
 "nbformat": 4,
 "nbformat_minor": 2
}
