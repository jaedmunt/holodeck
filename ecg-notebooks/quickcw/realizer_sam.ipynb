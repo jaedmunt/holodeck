{
 "cells": [
  {
   "cell_type": "code",
   "execution_count": null,
   "metadata": {},
   "outputs": [],
   "source": [
    "%reload_ext autoreload\n",
    "%autoreload 2\n",
    "from importlib import reload\n",
    "\n",
    "import numpy as np\n",
    "import matplotlib.pyplot as plt\n",
    "import kalepy as kale\n",
    "\n",
    "from holodeck import plot, detstats, utils, cosmo\n",
    "from holodeck.constants import YR, MSOL, MPC, GYR\n",
    "import holodeck as holo\n",
    "from holodeck import extensions as holo_extensions\n"
   ]
  },
  {
   "cell_type": "code",
   "execution_count": null,
   "metadata": {},
   "outputs": [],
   "source": [
    "fobs_cents, fobs_edges = utils.pta_freqs()\n",
    "fobs_orb_cents, fobs_orb_edges = fobs_cents/2.0, fobs_edges/2.0\n",
    "sam = holo.sams.Semi_Analytic_Model()\n",
    "hard = holo.hardening.Fixed_Time_2PL_SAM(sam, 3*GYR)\n",
    "realizer = holo_extensions.Realizer_SAM(fobs_orb_edges=fobs_edges/2.0,\n",
    "                                        sam=sam, hard=hard)"
   ]
  },
  {
   "cell_type": "code",
   "execution_count": null,
   "metadata": {},
   "outputs": [],
   "source": [
    "redz_final, diff_num = holo.sams.cyutils.dynamic_binary_number_at_fobs(\n",
    "        fobs_orb_cents, sam, hard, cosmo\n",
    "    )\n",
    "\n",
    "edges = [sam.mtot, sam.mrat, sam.redz, fobs_orb_edges]\n",
    "number = holo.sams.cyutils.integrate_differential_number_3dx1d(edges, diff_num) # fractional number per bin\n",
    "\n"
   ]
  },
  {
   "cell_type": "code",
   "execution_count": null,
   "metadata": {},
   "outputs": [],
   "source": [
    "print(holo.utils.stats(redz_final))\n",
    "print(holo.utils.stats(sam.redz))"
   ]
  },
  {
   "cell_type": "code",
   "execution_count": null,
   "metadata": {},
   "outputs": [],
   "source": [
    "samples = holo_extensions.get_samples_from_edges(edges, redz_final, number.shape)"
   ]
  },
  {
   "cell_type": "code",
   "execution_count": null,
   "metadata": {},
   "outputs": [],
   "source": [
    "print(holo.utils.stats(samples[2]))"
   ]
  },
  {
   "cell_type": "code",
   "execution_count": null,
   "metadata": {},
   "outputs": [],
   "source": [
    "# ---- Find bin center properties\n",
    "mtot = kale.utils.midpoints(edges[0]) #: total mass\n",
    "mrat = kale.utils.midpoints(edges[1]) #: mass ratio\n",
    "fobs_orb_cents = kale.utils.midpoints(edges[3]) \n",
    "fobs = 2.0 * fobs_orb_cents           #: gw fobs\n",
    "\n",
    "for dd in range(3):\n",
    "    redz = np.moveaxis(redz, dd, 0)\n",
    "    redz = kale.utils.midpoints(redz, axis=0) # get final redz at bin centers\n",
    "    redz = np.moveaxis(redz, 0, dd)\n",
    "sel = (redz > 0.0) # identify emitting sources\n",
    "redz[~sel] = -1.0 # set all other redshifts to zero\n",
    "redz[redz<0] = -1.0"
   ]
  },
  {
   "cell_type": "code",
   "execution_count": null,
   "metadata": {},
   "outputs": [],
   "source": [
    "print(sam.redz)"
   ]
  },
  {
   "cell_type": "code",
   "execution_count": null,
   "metadata": {},
   "outputs": [],
   "source": []
  }
 ],
 "metadata": {
  "kernelspec": {
   "display_name": "quickcw",
   "language": "python",
   "name": "python3"
  },
  "language_info": {
   "codemirror_mode": {
    "name": "ipython",
    "version": 3
   },
   "file_extension": ".py",
   "mimetype": "text/x-python",
   "name": "python",
   "nbconvert_exporter": "python",
   "pygments_lexer": "ipython3",
   "version": "3.10.12"
  }
 },
 "nbformat": 4,
 "nbformat_minor": 2
}
