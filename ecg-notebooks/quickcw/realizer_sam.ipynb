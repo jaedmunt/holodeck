{
 "cells": [
  {
   "cell_type": "code",
   "execution_count": null,
   "metadata": {},
   "outputs": [],
   "source": [
    "%reload_ext autoreload\n",
    "%autoreload 2\n",
    "from importlib import reload\n",
    "\n",
    "import numpy as np\n",
    "import matplotlib.pyplot as plt\n",
    "import kalepy as kale\n",
    "\n",
    "from holodeck import plot, detstats, utils, cosmo\n",
    "from holodeck.constants import YR, MSOL, MPC, GYR\n",
    "import holodeck as holo\n",
    "from holodeck import extensions as holo_extensions\n"
   ]
  },
  {
   "cell_type": "code",
   "execution_count": null,
   "metadata": {},
   "outputs": [],
   "source": [
    "fobs_cents, fobs_edges = utils.pta_freqs()\n",
    "fobs_orb_cents, fobs_orb_edges = fobs_cents/2.0, fobs_edges/2.0\n",
    "sam = holo.sams.Semi_Analytic_Model()\n",
    "hard = holo.hardening.Fixed_Time_2PL_SAM(sam, 3*GYR)\n",
    "realizer = holo_extensions.Realizer_SAM(fobs_orb_edges=fobs_edges/2.0,\n",
    "                                        sam=sam, hard=hard)"
   ]
  },
  {
   "cell_type": "code",
   "execution_count": null,
   "metadata": {},
   "outputs": [],
   "source": [
    "redz_final, diff_num = holo.sams.cyutils.dynamic_binary_number_at_fobs(\n",
    "        fobs_orb_cents, sam, hard, cosmo\n",
    "    )\n",
    "\n",
    "edges = [sam.mtot, sam.mrat, sam.redz, fobs_orb_edges]\n",
    "number = holo.sams.cyutils.integrate_differential_number_3dx1d(edges, diff_num) # fractional number per bin\n",
    "\n"
   ]
  },
  {
   "cell_type": "code",
   "execution_count": null,
   "metadata": {},
   "outputs": [],
   "source": [
    "print(holo.utils.stats(redz_final))\n",
    "print(holo.utils.stats(sam.redz))"
   ]
  },
  {
   "cell_type": "code",
   "execution_count": null,
   "metadata": {},
   "outputs": [],
   "source": [
    "samples = holo_extensions.get_samples_from_edges(edges, redz_final, number.shape)"
   ]
  },
  {
   "cell_type": "code",
   "execution_count": null,
   "metadata": {},
   "outputs": [],
   "source": [
    "print(holo.utils.stats(samples[2]))"
   ]
  },
  {
   "cell_type": "code",
   "execution_count": null,
   "metadata": {},
   "outputs": [],
   "source": [
    "nreals=3\n",
    "names = ['mtot', 'mrat', 'redz', 'fobs']\n",
    "number = number.flatten()\n",
    "shape = (number.size, nreals)\n",
    "weights = holo.gravwaves.poisson_as_needed(number[..., np.newaxis] * np.ones(shape)).reshape(shape)\n"
   ]
  },
  {
   "cell_type": "code",
   "execution_count": null,
   "metadata": {},
   "outputs": [],
   "source": [
    "nonzero_samples = []\n",
    "nonzero_weights = []\n",
    "for rr in range(nreals):\n",
    "    nonzero = (weights[:,rr]!=0) & (samples[2]>0)\n",
    "    print(nonzero)\n",
    "    mtot = samples[0][nonzero]\n",
    "    mrat = samples[1][nonzero]\n",
    "    redz = samples[2][nonzero]\n",
    "    fobs = samples[3][nonzero]\n",
    "    nonzero_samples.append([mtot, mrat, redz, fobs])\n",
    "    nonzero_weights.append(weights[:,rr][nonzero])"
   ]
  },
  {
   "cell_type": "code",
   "execution_count": null,
   "metadata": {},
   "outputs": [],
   "source": [
    "print(holo.utils.stats(redz))"
   ]
  },
  {
   "cell_type": "code",
   "execution_count": null,
   "metadata": {},
   "outputs": [],
   "source": [
    "print(len(nonzero_samples[0][0]))\n",
    "print(len(samples[0])/3)"
   ]
  },
  {
   "cell_type": "code",
   "execution_count": null,
   "metadata": {},
   "outputs": [],
   "source": []
  }
 ],
 "metadata": {
  "kernelspec": {
   "display_name": "quickcw",
   "language": "python",
   "name": "python3"
  },
  "language_info": {
   "codemirror_mode": {
    "name": "ipython",
    "version": 3
   },
   "file_extension": ".py",
   "mimetype": "text/x-python",
   "name": "python",
   "nbconvert_exporter": "python",
   "pygments_lexer": "ipython3",
   "version": "3.10.12"
  }
 },
 "nbformat": 4,
 "nbformat_minor": 2
}
